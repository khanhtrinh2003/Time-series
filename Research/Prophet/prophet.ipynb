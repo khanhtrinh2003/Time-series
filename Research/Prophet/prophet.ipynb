{
 "cells": [
  {
   "cell_type": "code",
   "execution_count": null,
   "metadata": {},
   "outputs": [],
   "source": [
    "# Import relevant items\n",
    "import pandas as pd\n",
    "import numpy as np\n",
    "import matplotlib.pyplot as plt\n",
    "from fbprophet import Prophet"
   ]
  },
  {
   "cell_type": "code",
   "execution_count": 13,
   "metadata": {},
   "outputs": [],
   "source": [
    "# get data\n",
    "# hsx\n",
    "df = pd.read_csv('CafeF.HSX.Upto29.03.2019.csv')\n",
    "# vn30 ky 1 2019\n",
    "frames = [df[df['<Ticker>']== 'CMG']]\n",
    "df = pd.concat(frames)"
   ]
  },
  {
   "cell_type": "code",
   "execution_count": 15,
   "metadata": {},
   "outputs": [
    {
     "name": "stderr",
     "output_type": "stream",
     "text": [
      "INFO:fbprophet:Disabling daily seasonality. Run prophet with daily_seasonality=True to override this.\n"
     ]
    },
    {
     "data": {
      "text/plain": [
       "<fbprophet.forecaster.Prophet at 0x1a190a3ba8>"
      ]
     },
     "execution_count": 15,
     "metadata": {},
     "output_type": "execute_result"
    }
   ],
   "source": [
    "df.drop(['<Ticker>','<Open>','<High>','<Low>','<Volume>'], inplace=True, axis = 1)\n",
    "df['<DTYYYYMMDD>'] = pd.to_datetime(df['<DTYYYYMMDD>'].astype(str), format = '%Y%m%d')\n",
    "model = Prophet()\n",
    "df.columns = ['ds', 'y']\n",
    "model.fit(df)"
   ]
  },
  {
   "cell_type": "code",
   "execution_count": 18,
   "metadata": {},
   "outputs": [],
   "source": [
    "future_stock_data = model.make_future_dataframe(periods=10, freq = 'd')\n",
    "forecast_data = model.predict(future_stock_data)"
   ]
  },
  {
   "cell_type": "code",
   "execution_count": 19,
   "metadata": {},
   "outputs": [
    {
     "data": {
      "text/plain": [
       "[<matplotlib.lines.Line2D at 0x1a19df17b8>]"
      ]
     },
     "execution_count": 19,
     "metadata": {},
     "output_type": "execute_result"
    },
    {
     "data": {
      "image/png": "[encoded data removed]",
      "text/plain": [
       "<Figure size 432x288 with 1 Axes>"
      ]
     },
     "metadata": {
      "needs_background": "light"
     },
     "output_type": "display_data"
    }
   ],
   "source": [
    "plt.plot(df.ds,df.y)\n",
    "plt.plot(forecast_data.ds,forecast_data.yhat)"
   ]
  },
  {
   "cell_type": "code",
   "execution_count": 90,
   "metadata": {},
   "outputs": [
    {
     "name": "stdout",
     "output_type": "stream",
     "text": [
      "P:  0.4001759014951627\n",
      "R^2:  0.9052361726195122\n"
     ]
    }
   ],
   "source": [
    "# only close\n",
    "testY_inverse = df.y[::-1].values\n",
    "y_predict = forecast_data.yhat.values\n",
    "now_yhat = y_predict[1:]\n",
    "yes_yhat = y_predict[:-1]\n",
    "now = testY_inverse[1:]\n",
    "yes = testY_inverse[:-1]\n",
    "print(\"P: \", np.nansum((now - yes)*(now_yhat[0:2274]- yes_yhat[0:2274]) > 0)/2274)\n",
    "from sklearn.metrics import r2_score\n",
    "print(\"R^2: \",r2_score(testY_inverse, forecast_data.yhat[0:2275]))"
   ]
  },
  {
   "cell_type": "code",
   "execution_count": 85,
   "metadata": {},
   "outputs": [
    {
     "data": {
      "text/plain": [
       "array([24.9803, 23.7669, 22.625 , ..., 29.9   , 30.25  , 30.    ])"
      ]
     },
     "execution_count": 85,
     "metadata": {},
     "output_type": "execute_result"
    }
   ],
   "source": [
    "df.y[::-1].values"
   ]
  },
  {
   "cell_type": "code",
   "execution_count": 80,
   "metadata": {},
   "outputs": [
    {
     "data": {
      "text/plain": [
       "2285"
      ]
     },
     "execution_count": 80,
     "metadata": {},
     "output_type": "execute_result"
    }
   ],
   "source": [
    "len(a - b)"
   ]
  },
  {
   "cell_type": "code",
   "execution_count": null,
   "metadata": {},
   "outputs": [],
   "source": []
  }
 ],
 "metadata": {
  "kernelspec": {
   "display_name": "Python 3",
   "language": "python",
   "name": "python3"
  },
  "language_info": {
   "codemirror_mode": {
    "name": "ipython",
    "version": 3
   },
   "file_extension": ".py",
   "mimetype": "text/x-python",
   "name": "python",
   "nbconvert_exporter": "python",
   "pygments_lexer": "ipython3",
   "version": "3.10.9"
  },
  "vscode": {
   "interpreter": {
    "hash": "a42ccb73e7d9bfdf27e036f1d2b8b681e55fc0743cc5586bc2474d4a60f4b886"
   }
  }
 },
 "nbformat": 4,
 "nbformat_minor": 2
}
